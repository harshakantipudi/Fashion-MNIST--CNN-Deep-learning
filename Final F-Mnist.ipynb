{
 "cells": [
  {
   "cell_type": "markdown",
   "metadata": {},
   "source": [
    "\n",
    "# 1) Problem Description"
   ]
  },
  {
   "cell_type": "markdown",
   "metadata": {},
   "source": [
    "\n",
    "### Goal: Applying Neural Networks to determine a classification problem\n",
    "\n",
    "<p><span style=\"color:blue\">Classification of Fashion-MNIST with a simple Convolution Neural Networks in Keras.We import datasets for fashion Mnist from keras library.\n",
    "</span></p>\n"
   ]
  },
  {
   "cell_type": "markdown",
   "metadata": {},
   "source": [
    "<table align='left'>\n",
    "<tr>\n",
    "<td><img src='https://raw.githubusercontent.com/margaretmz/deep-learning/master/images/modern%20dl_fash-mnist_keras.png' width='1000' /></td>\n",
    "</tr>\n",
    "</table>\n"
   ]
  },
  {
   "cell_type": "markdown",
   "metadata": {},
   "source": [
    "## Break Down this notebook:\n",
    "\n",
    "\n",
    "<p><span style=\"color:green\">1. Loading the data from keras datasets:\n",
    "</span></p>\n",
    "    \n",
    "- [Importing Libraries](#scrollTo=18xLQCydFHqi)\n",
    " \n",
    "- [Extract dataset](#scrollTo=18xLQCydFHqi)\n",
    "\n",
    "- [Features](#scrollTo=18xLQCydFHqi)\n",
    " \n",
    "- [Examine Dimensions](#scrollTo=18xLQCydFHqi)\n",
    " \n",
    "- [Examine NaN values](#scrollTo=18xLQCydFHqi)\n",
    "\n",
    "<p><span style=\"color:green\">2. Visualizing the Dataset:\n",
    "</span></p>\n",
    "    \n",
    "- [Plotting Random Images](#scrollTo=18xLQCydFHqi)\n",
    " \n",
    "- [Distribution of Labels](#scrollTo=18xLQCydFHqi)\n",
    "\n",
    "<p><span style=\"color:green\">3. Data PreProcessing:\n",
    "</span></p>\n",
    "\n",
    "- [Setting Random Seeds](#scrollTo=18xLQCydFHqi)\n",
    " \n",
    "- [Splitting Data](#scrollTo=18xLQCydFHqi)\n",
    " \n",
    "- [Reshaping Images](#scrollTo=18xLQCydFHqi)\n",
    " \n",
    "- [Normalization](#scrollTo=18xLQCydFHqi)\n",
    " \n",
    "- [One Hot Encoding](#scrollTo=18xLQCydFHqi)\n",
    "\n",
    "<p><span style=\"color:green\">4. Training ConvNet\n",
    "</span></p>\n",
    "\n",
    " - [Building a ConvNet](#scrollTo=18xLQCydFHqi)\n",
    " \n",
    " - [Compiling Model](#scrollTo=18xLQCydFHqi)\n",
    " \n",
    " - [Model Summary](#scrollTo=18xLQCydFHqi)\n",
    " \n",
    " - [Learning Rate Decay](#scrollTo=18xLQCydFHqi)\n",
    " \n",
    " - [Data Augmentation](#scrollTo=18xLQCydFHqi)\n",
    " \n",
    " - [Fitting the Model](#scrollTo=18xLQCydFHqi)\n"
   ]
  },
  {
   "cell_type": "markdown",
   "metadata": {},
   "source": [
    "### Libraries and Tools used in this project\n",
    "\n",
    "For this activity, we will need a library specialized in deep learning called Keras. We will also use sklearn, a very complete library for machine learning in Python.  \n",
    "\n",
    "\n",
    "<table align='left'>\n",
    "<tr>\n",
    "<td><img src='http://jricardon.github.io/BBS19lab2Files/figs/keras_logo.png' width='200' /></td>\n",
    "    \n",
    "<td><img src='https://cdn-images-1.medium.com/max/1200/1*00pL0zLnfI7y8d5G1aQrHA.jpeg' width='200' /></td>\n",
    "    \n",
    "<td><img src='https://matplotlib.org/_static/logo2.svg' width='200' /></td>\n",
    "    \n",
    "<td><img src='https://tse1.mm.bing.net/th?id=OIP.AvJibK-BbuwLDwzedOVIkAHaCl&pid=Api&P=0&w=456&h=160' width='200' /></td>   \n",
    "    \n",
    "</tr>\n",
    "</table>\n"
   ]
  },
  {
   "cell_type": "markdown",
   "metadata": {},
   "source": [
    "# 2) Loading the data from keras datasets:"
   ]
  },
  {
   "cell_type": "markdown",
   "metadata": {},
   "source": [
    "### Importing libraries."
   ]
  },
  {
   "cell_type": "code",
   "execution_count": 3,
   "metadata": {},
   "outputs": [],
   "source": [
    "!pip install -q -U tensorflow>=1.8.0\n",
    "import tensorflow as tf\n",
    "\n",
    "import numpy as np # Handles table-like data and matrices :\n",
    "import matplotlib.pyplot as plt #Library used for visualization."
   ]
  },
  {
   "cell_type": "markdown",
   "metadata": {},
   "source": [
    "\n",
    "<p><span style=\"color:red\">References</span></p>\n",
    "\n",
    "<blockquote>\n",
    "    \n",
    "[1] [Matplotlib](https://matplotlib.org/)\n",
    "    \n",
    "    \n",
    "[2] [Numpy](https://numpy.org/)\n",
    "    \n",
    "[3] [Tensor Flow](https://www.tensorflow.org/)"
   ]
  },
  {
   "cell_type": "markdown",
   "metadata": {},
   "source": [
    "### Extract dataset\n",
    "   \n",
    "we had used Fashion Mnist datasets from keras library.\n",
    "\n",
    "<p><span style=\"color:blue\">Dataset path: </span></p>\n",
    "\n",
    "<blockquote>\n",
    "\n",
    "https://keras.io/api/datasets/fashion_mnist/"
   ]
  },
  {
   "cell_type": "markdown",
   "metadata": {},
   "source": [
    "\n",
    "<p><span style=\"color:blue\">About Dataset</span></p>\n",
    "\n",
    "MNIST dataset has the following features:\n",
    "\n",
    "<blockquote>\n",
    "    \n",
    "1) Dataset size 60,000 samples of handwritten images.\n",
    "\n",
    "2) The size of each image is 28x28 pixels.\n",
    "\n",
    "3) Each image has only 1 color channel\n",
    "\n",
    "4) Each pixel has value in the range of [0,255] where 0 represents black, and 255 represents white.\n",
    "\n",
    "5) Each image has labeled from 0-9."
   ]
  },
  {
   "cell_type": "code",
   "execution_count": 2,
   "metadata": {},
   "outputs": [
    {
     "name": "stdout",
     "output_type": "stream",
     "text": [
      "x_train shape: (60000, 28, 28) y_train shape: (60000,)\n"
     ]
    }
   ],
   "source": [
    "# Load the fashion-mnist pre-shuffled train data and test data\n",
    "#Directly loading the data from keras dataset.\n",
    "(x_train, y_train), (x_test, y_test) = tf.keras.datasets.fashion_mnist.load_data()\n",
    "\n",
    "print(\"x_train shape:\", x_train.shape, \"y_train shape:\", y_train.shape)"
   ]
  },
  {
   "cell_type": "markdown",
   "metadata": {},
   "source": [
    "### Labelling:"
   ]
  },
  {
   "cell_type": "code",
   "execution_count": 5,
   "metadata": {},
   "outputs": [
    {
     "name": "stdout",
     "output_type": "stream",
     "text": [
      "x_train shape: (60000, 28, 28) y_train shape: (60000,)\n",
      "60000 train set\n",
      "10000 test set\n",
      "y = 2 Pullover\n"
     ]
    },
    {
     "data": {
      "text/plain": [
       "<matplotlib.image.AxesImage at 0x2564debef98>"
      ]
     },
     "execution_count": 5,
     "metadata": {},
     "output_type": "execute_result"
    },
    {
     "data": {
      "image/png": "[encoded data removed]",
      "text/plain": [
       "<Figure size 432x288 with 1 Axes>"
      ]
     },
     "metadata": {
      "needs_background": "light"
     },
     "output_type": "display_data"
    }
   ],
   "source": [
    "# Print training set shape - note there are 60,000 training data of image size of 28x28, 60,000 train labels)\n",
    "print(\"x_train shape:\", x_train.shape, \"y_train shape:\", y_train.shape)\n",
    "\n",
    "# Print the number of training and test datasets\n",
    "print(x_train.shape[0], 'train set')#training set \n",
    "print(x_test.shape[0], 'test set')#test set\n",
    "\n",
    "# Define the text labels\n",
    "fashion_mnist_labels = [\"T-shirt/top\",  # index 0\n",
    "                        \"Trouser\",      # index 1\n",
    "                        \"Pullover\",     # index 2 \n",
    "                        \"Dress\",        # index 3 \n",
    "                        \"Coat\",         # index 4\n",
    "                        \"Sandal\",       # index 5\n",
    "                        \"Shirt\",        # index 6 \n",
    "                        \"Sneaker\",      # index 7 \n",
    "                        \"Bag\",          # index 8 \n",
    "                        \"Ankle boot\"]   # index 9\n",
    "\n",
    "# Image index, you can pick any number between 0 and 59,999\n",
    "img_index = 5\n",
    "# y_train contains the lables, ranging from 0 to 9\n",
    "label_index = y_train[img_index]\n",
    "# Print the label, for example 2 Pullover\n",
    "print (\"y = \" + str(label_index) + \" \" +(fashion_mnist_labels[label_index]))\n",
    "# # Show one of the images from the training dataset\n",
    "plt.imshow(x_train[img_index])"
   ]
  },
  {
   "cell_type": "markdown",
   "metadata": {},
   "source": [
    "### Data normalization\n",
    "Normalize the data dimensions so that they are of approximately the same scale."
   ]
  },
  {
   "cell_type": "code",
   "execution_count": 6,
   "metadata": {},
   "outputs": [],
   "source": [
    "# You need to make sure that your Image is cast into double/float from int before you do this scaling \n",
    "# as you will most likely generate floating point numbers.\n",
    "# And had it been int, the values will be truncated to zero.\n",
    "x_train = x_train.astype('float32') / 255\n",
    "x_test = x_test.astype('float32') / 255"
   ]
  },
  {
   "cell_type": "markdown",
   "metadata": {},
   "source": [
    "## 3) Number of examples for class?\n",
    "\n",
    " > Fashion-MNIST is a dataset of Zalando's article images—consisting of a training set of 60,000 examples and a test set of 10,000 examples. Each example is a 28x28 grayscale image, associated with a label from 10 classes."
   ]
  },
  {
   "cell_type": "code",
   "execution_count": 7,
   "metadata": {},
   "outputs": [
    {
     "name": "stdout",
     "output_type": "stream",
     "text": [
      "Number of train data - 60000\n",
      "Number of test data - 10000\n"
     ]
    }
   ],
   "source": [
    "print(\"Number of train data - \" + str(len(x_train)))\n",
    "print(\"Number of test data - \" + str(len(x_test)))"
   ]
  },
  {
   "cell_type": "markdown",
   "metadata": {},
   "source": [
    "## 4) Describe the preprocessing operations you consider important to apply before training model?\n"
   ]
  },
  {
   "cell_type": "markdown",
   "metadata": {},
   "source": [
    " > Setting Random Seeds\n",
    " \n",
    " <p><span style=\"color:blue\">Splitting Data:</span></p>\n",
    "\n",
    " > split the training data into Train and Validation Set. Train set is used for Training the model and       Validationset is used for Evaluating our Model's Performance on the Dataset.Further breaks training data into train / validation sets (# put 5000 into validation set and keep remaining 55,000 for train)\n",
    " \n",
    "- Reshaping Images\n",
    "\n",
    "-  Normalization\n",
    "\n",
    "-  One Hot Encoding "
   ]
  },
  {
   "cell_type": "markdown",
   "metadata": {},
   "source": [
    "\n",
    "<p><span style=\"color:red\">References:</span></p>\n",
    " <blockquote>   \n",
    "    \n",
    "Goodfellow, I., Bengio, Y., & Courville, A. (2016).[Deep Learning](https://books.google.it/books?hl=en&lr=&id=omivDQAAQBAJ&oi=fnd&pg=PR5&dq=+++++Goodfellow,+I.,+Bengio,+Y.,+%26+Courville,+A.+(2016).+Deep+learning+(adaptive+computation+and+machine+learning+series).+Adaptive+Computation+and+Machine+Learning+series,+800.&ots=MMV_ftmDQU&sig=Gy4MrK33Nmcjirnl7sEzgz26xBI&redir_esc=y#v=onepage&q&f=false) (adaptive computation and machine learning series). Adaptive Computation and Machine Learning series, 800."
   ]
  },
  {
   "cell_type": "markdown",
   "metadata": {},
   "source": [
    "### Split the data into train/validation/test data sets\n",
    "\n",
    "\n",
    "- Training data - used for training the model\n",
    "- Validation data - used for tuning the hyperparameters and evaluate the models\n",
    "- Test data - used to test the model after the model has gone through initial vetting by the validation set.\n"
   ]
  },
  {
   "cell_type": "code",
   "execution_count": 8,
   "metadata": {},
   "outputs": [
    {
     "name": "stdout",
     "output_type": "stream",
     "text": [
      "x_train shape: (55000, 28, 28, 1) y_train shape: (55000, 10)\n",
      "55000 train set\n",
      "5000 validation set\n",
      "10000 test set\n"
     ]
    }
   ],
   "source": [
    "#split the training data into Train and Validation Set. Train set is used for Training the model and Validation set is used for\n",
    "#Evaluating our Model's Performance on the Dataset.\n",
    "# Further break training data into train / validation sets (# put 5000 into validation set and keep remaining 55,000 for train)\n",
    "\n",
    "(x_train, x_valid) = x_train[5000:], x_train[:5000] \n",
    "(y_train, y_valid) = y_train[5000:], y_train[:5000]\n",
    "\n",
    "\n",
    "#Note that we have Images as 1D vector each containing 784 pixels. Before we feed the data to the CNN we must reshape the data into (28x28x1) 3D matrices.\n",
    "#This is because Keras wants an Extra Dimension in the end, for channels. If this had been RGB images, there would have been 3 channels, but as MNIST is gray scale it only uses one.\n",
    "# Reshape input data from (28, 28) to (28, 28, 1)\n",
    "w, h = 28, 28\n",
    "x_train = x_train.reshape(x_train.shape[0], w, h, 1)\n",
    "x_valid = x_valid.reshape(x_valid.shape[0], w, h, 1)\n",
    "x_test = x_test.reshape(x_test.shape[0], w, h, 1)\n",
    "\n",
    "\n",
    "# One-hot encode the labels:\n",
    "#The labels are given as integers between 0-9.\n",
    "#We need to one hot encode them , Eg 8 [0, 0, 0, 0, 0, 0, 0, 0, 1, 0] .\n",
    "#We have 10 digits [0-9] or classes, therefore we one-hot-encode the target variable with 10 classes\n",
    "y_train = tf.keras.utils.to_categorical(y_train, 10)\n",
    "y_valid = tf.keras.utils.to_categorical(y_valid, 10)\n",
    "y_test = tf.keras.utils.to_categorical(y_test, 10)\n",
    "\n",
    "# Print training set shape\n",
    "print(\"x_train shape:\", x_train.shape, \"y_train shape:\", y_train.shape)\n",
    "\n",
    "# Print the number of training, validation, and test datasets\n",
    "print(x_train.shape[0], 'train set')\n",
    "print(x_valid.shape[0], 'validation set')\n",
    "print(x_test.shape[0], 'test set')"
   ]
  },
  {
   "cell_type": "markdown",
   "metadata": {},
   "source": [
    "## 5) Propose a neural network  to solve the problem?"
   ]
  },
  {
   "cell_type": "markdown",
   "metadata": {},
   "source": [
    "<img width='800'  align='left' src='http://jricardon.github.io/BBS19lab2Files/figs/main.jpg'>\n",
    "\n"
   ]
  },
  {
   "cell_type": "markdown",
   "metadata": {},
   "source": [
    "### Training Convolution Neural Network:"
   ]
  },
  {
   "cell_type": "markdown",
   "metadata": {},
   "source": [
    "#### Process:\n",
    "   \n",
    "<p><span style=\"color:blue\">Step:1:  Sequential Keras API: </span></p>\n",
    "\n",
    "> This is linear stack of layers for adding one layer at a time starting from input.   \n",
    " \n",
    "<p><span style=\"color:blue\">Step:2:  Convolutional Layers: </span></p>\n",
    "    \n",
    ">- Convolutional Layers are Building blocks of ConvNets. \n",
    ">- Convolutional Layers has set of Independent Filters whose depth is equal to Input and other  dimensions can be set manually. These Filters when convolved over the Input Image produce Feature Maps.\n",
    "\n",
    ">> - It includes some HyperParameters which we input manually, such as:\n",
    "              1)number of filters\n",
    "              2)Dimensions of Filter (F)\n",
    "              3)Stride (S) \n",
    "              4)Padding(P)....(Same Padding) \n",
    "              5)Activation Function etc......(Rectifier Activation Funtion) \n",
    "              \n",
    "> Let the Input Volume Size be deonted by (W) ,Then, the Output will have Dimensions given by:\n",
    "\n",
    "                      ........(Height, Width) = ( ( W − F + 2P ) / S ) + 1\n",
    "\n",
    "> And the Depth will be equal to Number of Filters Specified.\n",
    "    \n",
    "\n",
    "<p><span style=\"color:blue\">Step:3: Pooling Layers </span></p>\n",
    "\n",
    "> - Pooling Layers are used for Dimensionality Reduction or DownSampling the Input. These are used where we have                   lot of Input Features. It reduces the amount of Parameters and Computational power required drastically, thus                   reducing Overfitting. These along with Convolutional layers are able to learn more Complex features of the                     Image.\n",
    "\n",
    "\n",
    "<p><span style=\"color:blue\">Step:4: Batch Normalization: </span></p>\n",
    "\n",
    "> - Batch Normalizationis used for acheiving Zero mean and Variance one. It scales down outliers and forces the                     network to learn features in a distributed way, not relying too much on a Particular Weight and makes the                       model better Generalize the Images.\n",
    "\n",
    "\n",
    "<p><span style=\"color:blue\">Step:5: Dropout: </span></p>\n",
    "\n",
    "> - Dropout is used for avoiding Overfitting. This randomly drops some percentage of neurons, and thus the weights gets            Re-Aligned. The remaining Neurons learn more features and this reduces the dependency on any one Neuron. DropOut is a          Regularization Technique, which Penalizes the Parameters. Generally we set the DropOutRate between 0.2-0.5.\n",
    "    \n",
    "<p><span style=\"color:blue\">Step:6: Flatten layer:</span></p>\n",
    "\n",
    "> - Flatten layer to map the input to a 1D vector. We then add Fully connected Layers after some                                   Convolutional/pooling layers. It combines all the Features of the Previous Layers.\n",
    "\n",
    "<p><span style=\"color:blue\">Step:7: Output Layer:</span></p>\n",
    "    \n",
    "> - Output Layer units equal to the number of classes to be identified. Here, we use 'sigmoid' function if it is                    Binary Classification otherwise 'softmax' activation function in case of Multi-Class Classification.\n"
   ]
  },
  {
   "cell_type": "markdown",
   "metadata": {},
   "source": [
    "#### Kernel /Filter:\n",
    "\n",
    "\n",
    "•\tIn the context of CNN, a filter is a set of learnable weights which are learned using the backpropagation algorithm. When you convolve this filter across the corresponding input, you are basically trying to find out the similarity between the stored template and different locations in the input.\n",
    "\n",
    "\n",
    "#### Filter size:\n",
    "\n",
    "•\tFilter size refers to the dimensions of the filter/kernel in the ConvNet.\n",
    "\n",
    "\n",
    "#### How can I decide Filter size?\n",
    "\n",
    "•\tYou should initially use fewer filters and gradually increase and monitor the error rate to see how it is varying.\n",
    "•\tIt is always a tradeoff between speed and accuracy. But there is several to-do\n",
    "\n",
    "#### Kernel size:\n",
    "\n",
    "smaller + deeper = better\n",
    "\n",
    "Deeper - better up to some level. Wider - better, but at some level there is an accuracy saturation, and computations grow up quadratically.\n",
    "\n"
   ]
  },
  {
   "cell_type": "markdown",
   "metadata": {},
   "source": [
    "<table align='left'>\n",
    "<tr>\n",
    "<td><img src='https://miro.medium.com/max/1400/1*uAeANQIOQPqWZnnuH-VEyw.jpeg' width='1000' /></td>    \n",
    "</tr>\n",
    "</table>"
   ]
  },
  {
   "cell_type": "code",
   "execution_count": 9,
   "metadata": {},
   "outputs": [
    {
     "name": "stderr",
     "output_type": "stream",
     "text": [
      "Using TensorFlow backend.\n"
     ]
    },
    {
     "name": "stdout",
     "output_type": "stream",
     "text": [
      "Model: \"sequential_1\"\n",
      "_________________________________________________________________\n",
      "Layer (type)                 Output Shape              Param #   \n",
      "=================================================================\n",
      "conv2d_1 (Conv2D)            (None, 28, 28, 32)        320       \n",
      "_________________________________________________________________\n",
      "batch_normalization_1 (Batch (None, 28, 28, 32)        128       \n",
      "_________________________________________________________________\n",
      "conv2d_2 (Conv2D)            (None, 28, 28, 32)        9248      \n",
      "_________________________________________________________________\n",
      "batch_normalization_2 (Batch (None, 28, 28, 32)        128       \n",
      "_________________________________________________________________\n",
      "dropout_1 (Dropout)          (None, 28, 28, 32)        0         \n",
      "_________________________________________________________________\n",
      "conv2d_3 (Conv2D)            (None, 28, 28, 64)        18496     \n",
      "_________________________________________________________________\n",
      "max_pooling2d_1 (MaxPooling2 (None, 14, 14, 64)        0         \n",
      "_________________________________________________________________\n",
      "dropout_2 (Dropout)          (None, 14, 14, 64)        0         \n",
      "_________________________________________________________________\n",
      "conv2d_4 (Conv2D)            (None, 14, 14, 128)       73856     \n",
      "_________________________________________________________________\n",
      "batch_normalization_3 (Batch (None, 14, 14, 128)       512       \n",
      "_________________________________________________________________\n",
      "dropout_3 (Dropout)          (None, 14, 14, 128)       0         \n",
      "_________________________________________________________________\n",
      "flatten_1 (Flatten)          (None, 25088)             0         \n",
      "_________________________________________________________________\n",
      "dense_1 (Dense)              (None, 512)               12845568  \n",
      "_________________________________________________________________\n",
      "batch_normalization_4 (Batch (None, 512)               2048      \n",
      "_________________________________________________________________\n",
      "dropout_4 (Dropout)          (None, 512)               0         \n",
      "_________________________________________________________________\n",
      "dense_2 (Dense)              (None, 128)               65664     \n",
      "_________________________________________________________________\n",
      "batch_normalization_5 (Batch (None, 128)               512       \n",
      "_________________________________________________________________\n",
      "dropout_5 (Dropout)          (None, 128)               0         \n",
      "_________________________________________________________________\n",
      "dense_3 (Dense)              (None, 10)                1290      \n",
      "=================================================================\n",
      "Total params: 13,017,770\n",
      "Trainable params: 13,016,106\n",
      "Non-trainable params: 1,664\n",
      "_________________________________________________________________\n"
     ]
    }
   ],
   "source": [
    "#Importing Deep Learning Libraries:\n",
    "from keras.models import Sequential, load_model #which is just a linear stack of layers. We add one layer at a time starting from input\n",
    "from keras.layers import Dense, Dropout, Flatten #To avoid Overfitting We add Dropout. This randomly drops some percentage of neurons, and thus the weights gets Re-Aligned.\n",
    "\n",
    "# We add Batch Normalization where we acheive Zero mean and Variance one. It scales down outliers and forces the network to learn features in a distributed way, not relying too much on a Particular Weight and makes the model better Generalize the Images.\n",
    "\n",
    "from keras.layers import Conv2D, MaxPooling2D, BatchNormalization #Filters when convolved over the Input Image produce Feature Maps.\n",
    "from keras.optimizers import Adam,SGD,Adagrad,Adadelta,RMSprop\n",
    "\n",
    "#from keras.preprocessing.image import ImageDataGenerator\n",
    "from keras.callbacks import ReduceLROnPlateau, LearningRateScheduler\n",
    "from keras.utils import to_categorical\n",
    "\n",
    "\n",
    "#Building a ConvNet\n",
    "\n",
    "#process: \n",
    "model = Sequential()#Used for adding linear stack of layers\n",
    "\n",
    "#In first convolution layer we use smaller size of filter(32) because intially as we are using cpu for executing the file we need to consider\n",
    "#smaller filter size first.\n",
    "model.add(Conv2D(filters=32, kernel_size=(3, 3), activation='relu', strides=1, padding='same', \n",
    "                 data_format='channels_last', input_shape=(28,28,1)))#we used rectifier activation function to replace all negative values to '0' and reamain same for positive values.\n",
    "model.add(BatchNormalization())#For achieving Zero mean and Variance one.\n",
    "\n",
    "\n",
    "model.add(Conv2D(filters=32, kernel_size=(3, 3), activation='relu', strides=1, padding='same', \n",
    "                 data_format='channels_last'))\n",
    "model.add(BatchNormalization())\n",
    "model.add(Dropout(0.25))#This randomly drops 0.25 percentage of neurons, and thus the weights gets Re-Aligned.\n",
    "\n",
    "\n",
    "#In this convolution layer we use size of filter(64):\n",
    "model.add(Conv2D(filters=64, kernel_size=(3, 3), activation='relu', strides=1, padding='same', \n",
    "                 data_format='channels_last'))\n",
    "model.add(MaxPooling2D(pool_size=(2, 2)))#Here we use max_pooling with(2,2) size so that we can consider the maximum value of the matric for reducing the size of convolution matrices.\n",
    "model.add(Dropout(0.25))#This randomly drops 0.25 percentage of neurons, and thus the weights gets Re-Aligned.\n",
    "    \n",
    "#In this convolution layer we use  size of filter(128):   \n",
    "model.add(Conv2D(filters=128, kernel_size=(3, 3), activation='relu', strides=1, padding='same', \n",
    "                 data_format='channels_last'))\n",
    "model.add(BatchNormalization())\n",
    "model.add(Dropout(0.25))#This randomly drops 0.25 percentage of neurons, and thus the weights gets Re-Aligned.\n",
    "    \n",
    "\n",
    "model.add(Flatten())#Flattening:To get single vector from pooling inorder to be input of ANN\n",
    "model.add(Dense(512, activation='relu'))\n",
    "model.add(BatchNormalization())\n",
    "model.add(Dropout(0.5))#This randomly drops 0.5 percentage of neurons, and thus the weights gets Re-Aligned.\n",
    "model.add(Dense(128, activation='relu'))\n",
    "model.add(BatchNormalization())#For achieving Zero mean and Variance one.\n",
    "model.add(Dropout(0.5))\n",
    "model.add(Dense(10, activation='softmax'))\n",
    "model.summary()#gives the entire description of layers used."
   ]
  },
  {
   "cell_type": "markdown",
   "metadata": {},
   "source": [
    "## 6) Propose a methodology to train the model.Explaining how do you plan to split the available data\n",
    "\n",
    "1) choosing Hyper parameters\n",
    "\n",
    "2) model overfitting\n"
   ]
  },
  {
   "cell_type": "markdown",
   "metadata": {},
   "source": [
    "### Compiling The Model:"
   ]
  },
  {
   "cell_type": "markdown",
   "metadata": {},
   "source": [
    "> We need to compile the model. We have to specify the optimizer used by the model We have many choices like Adam, RMSprop etc.. \n",
    "\n",
    "> Next we need to specify the loss function for the neural network which we want to minimize.\n",
    "\n",
    "##### For Binary Classification we use \"binary_crossentropy\" and for Multi-class Classification we use \"categorical_crossentropy\".\n",
    "\n",
    "> Finally, We need to specify the metric to evaluate our models performance. Here I have used accuracy.\n",
    "\n"
   ]
  },
  {
   "cell_type": "code",
   "execution_count": 10,
   "metadata": {},
   "outputs": [],
   "source": [
    "optimizer = Adam(lr=0.001, beta_1=0.9, beta_2=0.999 )#we use less learning rate such that it is not too high to take very large steps, neither it should be too small , which would not alter the Weights and Biases.\n",
    "\n",
    "model.compile(loss='categorical_crossentropy',\n",
    "             optimizer=optimizer,\n",
    "             metrics=['accuracy'])#as we need to do multi-class classification we use catgorical cross entropy as loss function"
   ]
  },
  {
   "cell_type": "code",
   "execution_count": 8,
   "metadata": {},
   "outputs": [
    {
     "name": "stdout",
     "output_type": "stream",
     "text": [
      "Model: \"sequential_1\"\n",
      "_________________________________________________________________\n",
      "Layer (type)                 Output Shape              Param #   \n",
      "=================================================================\n",
      "conv2d_1 (Conv2D)            (None, 28, 28, 32)        320       \n",
      "_________________________________________________________________\n",
      "batch_normalization_1 (Batch (None, 28, 28, 32)        128       \n",
      "_________________________________________________________________\n",
      "conv2d_2 (Conv2D)            (None, 28, 28, 32)        9248      \n",
      "_________________________________________________________________\n",
      "batch_normalization_2 (Batch (None, 28, 28, 32)        128       \n",
      "_________________________________________________________________\n",
      "dropout_1 (Dropout)          (None, 28, 28, 32)        0         \n",
      "_________________________________________________________________\n",
      "conv2d_3 (Conv2D)            (None, 28, 28, 64)        18496     \n",
      "_________________________________________________________________\n",
      "max_pooling2d_1 (MaxPooling2 (None, 14, 14, 64)        0         \n",
      "_________________________________________________________________\n",
      "dropout_2 (Dropout)          (None, 14, 14, 64)        0         \n",
      "_________________________________________________________________\n",
      "conv2d_4 (Conv2D)            (None, 14, 14, 128)       73856     \n",
      "_________________________________________________________________\n",
      "batch_normalization_3 (Batch (None, 14, 14, 128)       512       \n",
      "_________________________________________________________________\n",
      "dropout_3 (Dropout)          (None, 14, 14, 128)       0         \n",
      "_________________________________________________________________\n",
      "flatten_1 (Flatten)          (None, 25088)             0         \n",
      "_________________________________________________________________\n",
      "dense_1 (Dense)              (None, 512)               12845568  \n",
      "_________________________________________________________________\n",
      "batch_normalization_4 (Batch (None, 512)               2048      \n",
      "_________________________________________________________________\n",
      "dropout_4 (Dropout)          (None, 512)               0         \n",
      "_________________________________________________________________\n",
      "dense_2 (Dense)              (None, 128)               65664     \n",
      "_________________________________________________________________\n",
      "batch_normalization_5 (Batch (None, 128)               512       \n",
      "_________________________________________________________________\n",
      "dropout_5 (Dropout)          (None, 128)               0         \n",
      "_________________________________________________________________\n",
      "dense_3 (Dense)              (None, 10)                1290      \n",
      "=================================================================\n",
      "Total params: 13,017,770\n",
      "Trainable params: 13,016,106\n",
      "Non-trainable params: 1,664\n",
      "_________________________________________________________________\n"
     ]
    }
   ],
   "source": [
    "model.summary()#gives the entire description of layers used."
   ]
  },
  {
   "cell_type": "markdown",
   "metadata": {},
   "source": [
    "## 7) provide graph to show the training process as a function of number of training iterations?"
   ]
  },
  {
   "cell_type": "markdown",
   "metadata": {},
   "source": [
    "### Fitting The Model:\n"
   ]
  },
  {
   "cell_type": "code",
   "execution_count": 9,
   "metadata": {},
   "outputs": [
    {
     "name": "stdout",
     "output_type": "stream",
     "text": [
      "Train on 55000 samples, validate on 5000 samples\n",
      "Epoch 1/50\n",
      "55000/55000 [==============================] - 643s 12ms/step - loss: 0.5126 - accuracy: 0.8222 - val_loss: 0.8953 - val_accuracy: 0.6742\n",
      "\n",
      "Epoch 00001: val_loss improved from inf to 0.89528, saving model to model.weights.best.hdf5\n",
      "Epoch 2/50\n",
      "55000/55000 [==============================] - 640s 12ms/step - loss: 0.3242 - accuracy: 0.8852 - val_loss: 0.2499 - val_accuracy: 0.9104\n",
      "\n",
      "Epoch 00002: val_loss improved from 0.89528 to 0.24994, saving model to model.weights.best.hdf5\n",
      "Epoch 3/50\n",
      "55000/55000 [==============================] - 641s 12ms/step - loss: 0.2653 - accuracy: 0.9046 - val_loss: 0.2241 - val_accuracy: 0.9190\n",
      "\n",
      "Epoch 00003: val_loss improved from 0.24994 to 0.22406, saving model to model.weights.best.hdf5\n",
      "Epoch 4/50\n",
      "55000/55000 [==============================] - 653s 12ms/step - loss: 0.2370 - accuracy: 0.9148 - val_loss: 0.2074 - val_accuracy: 0.9216\n",
      "\n",
      "Epoch 00004: val_loss improved from 0.22406 to 0.20738, saving model to model.weights.best.hdf5\n",
      "Epoch 5/50\n",
      "55000/55000 [==============================] - 602s 11ms/step - loss: 0.2182 - accuracy: 0.9218 - val_loss: 0.1832 - val_accuracy: 0.9324\n",
      "\n",
      "Epoch 00005: val_loss improved from 0.20738 to 0.18323, saving model to model.weights.best.hdf5\n",
      "Epoch 6/50\n",
      "55000/55000 [==============================] - 641s 12ms/step - loss: 0.1964 - accuracy: 0.9294 - val_loss: 0.1863 - val_accuracy: 0.9334\n",
      "\n",
      "Epoch 00006: val_loss did not improve from 0.18323\n",
      "Epoch 7/50\n",
      "55000/55000 [==============================] - 584s 11ms/step - loss: 0.1798 - accuracy: 0.9354 - val_loss: 0.2163 - val_accuracy: 0.9204\n",
      "\n",
      "Epoch 00007: val_loss did not improve from 0.18323\n",
      "Epoch 8/50\n",
      "55000/55000 [==============================] - 576s 10ms/step - loss: 0.1639 - accuracy: 0.9417 - val_loss: 0.1804 - val_accuracy: 0.9326\n",
      "\n",
      "Epoch 00008: val_loss improved from 0.18323 to 0.18041, saving model to model.weights.best.hdf5\n",
      "Epoch 9/50\n",
      "55000/55000 [==============================] - 582s 11ms/step - loss: 0.1509 - accuracy: 0.9457 - val_loss: 0.1782 - val_accuracy: 0.9376\n",
      "\n",
      "Epoch 00009: val_loss improved from 0.18041 to 0.17817, saving model to model.weights.best.hdf5\n",
      "Epoch 10/50\n",
      "55000/55000 [==============================] - 595s 11ms/step - loss: 0.1416 - accuracy: 0.9493 - val_loss: 0.1885 - val_accuracy: 0.9326\n",
      "\n",
      "Epoch 00010: val_loss did not improve from 0.17817\n",
      "Epoch 11/50\n",
      "55000/55000 [==============================] - 640s 12ms/step - loss: 0.1358 - accuracy: 0.9509 - val_loss: 0.2059 - val_accuracy: 0.9286\n",
      "\n",
      "Epoch 00011: val_loss did not improve from 0.17817\n",
      "Epoch 12/50\n",
      "55000/55000 [==============================] - 574s 10ms/step - loss: 0.1257 - accuracy: 0.9548 - val_loss: 0.1823 - val_accuracy: 0.9370\n",
      "\n",
      "Epoch 00012: val_loss did not improve from 0.17817\n",
      "Epoch 13/50\n",
      "55000/55000 [==============================] - 575s 10ms/step - loss: 0.1086 - accuracy: 0.9617 - val_loss: 0.1861 - val_accuracy: 0.9352\n",
      "\n",
      "Epoch 00013: val_loss did not improve from 0.17817\n",
      "Epoch 14/50\n",
      "55000/55000 [==============================] - 580s 11ms/step - loss: 0.1011 - accuracy: 0.9634 - val_loss: 0.1895 - val_accuracy: 0.9386\n",
      "\n",
      "Epoch 00014: val_loss did not improve from 0.17817\n",
      "Epoch 15/50\n",
      "55000/55000 [==============================] - 578s 11ms/step - loss: 0.0919 - accuracy: 0.9676 - val_loss: 0.1928 - val_accuracy: 0.9410\n",
      "\n",
      "Epoch 00015: val_loss did not improve from 0.17817\n",
      "Epoch 16/50\n",
      "55000/55000 [==============================] - 575s 10ms/step - loss: 0.0855 - accuracy: 0.9689 - val_loss: 0.1916 - val_accuracy: 0.9402\n",
      "\n",
      "Epoch 00016: val_loss did not improve from 0.17817\n",
      "Epoch 17/50\n",
      "55000/55000 [==============================] - 578s 11ms/step - loss: 0.0801 - accuracy: 0.9711 - val_loss: 0.1892 - val_accuracy: 0.9422\n",
      "\n",
      "Epoch 00017: val_loss did not improve from 0.17817\n",
      "Epoch 18/50\n",
      "55000/55000 [==============================] - 604s 11ms/step - loss: 0.0769 - accuracy: 0.9725 - val_loss: 0.2208 - val_accuracy: 0.9350\n",
      "\n",
      "Epoch 00018: val_loss did not improve from 0.17817\n",
      "Epoch 19/50\n",
      "55000/55000 [==============================] - 588s 11ms/step - loss: 0.0839 - accuracy: 0.9703 - val_loss: 0.1895 - val_accuracy: 0.9418\n",
      "\n",
      "Epoch 00019: val_loss did not improve from 0.17817\n",
      "Epoch 20/50\n",
      "55000/55000 [==============================] - 625s 11ms/step - loss: 0.0603 - accuracy: 0.9782 - val_loss: 0.2123 - val_accuracy: 0.9368\n",
      "\n",
      "Epoch 00021: val_loss did not improve from 0.17817\n",
      "Epoch 22/50\n",
      "55000/55000 [==============================] - 622s 11ms/step - loss: 0.0598 - accuracy: 0.9787 - val_loss: 0.2324 - val_accuracy: 0.9366\n",
      "\n",
      "Epoch 00022: val_loss did not improve from 0.17817\n",
      "Epoch 23/50\n",
      "55000/55000 [==============================] - 680s 12ms/step - loss: 0.0490 - accuracy: 0.9828 - val_loss: 0.2171 - val_accuracy: 0.9400\n",
      "\n",
      "Epoch 00024: val_loss did not improve from 0.17817\n",
      "Epoch 25/50\n",
      "55000/55000 [==============================] - 621s 11ms/step - loss: 0.0493 - accuracy: 0.9825 - val_loss: 0.2423 - val_accuracy: 0.9352\n",
      "\n",
      "Epoch 00025: val_loss did not improve from 0.17817\n",
      "Epoch 26/50\n",
      "55000/55000 [==============================] - 606s 11ms/step - loss: 0.0477 - accuracy: 0.9839 - val_loss: 0.2161 - val_accuracy: 0.9422\n",
      "\n",
      "Epoch 00026: val_loss did not improve from 0.17817\n",
      "Epoch 27/50\n",
      "55000/55000 [==============================] - 631s 11ms/step - loss: 0.0440 - accuracy: 0.9847 - val_loss: 0.2106 - val_accuracy: 0.9408\n",
      "\n",
      "Epoch 00027: val_loss did not improve from 0.17817\n",
      "Epoch 28/50\n",
      "55000/55000 [==============================] - 635s 12ms/step - loss: 0.0448 - accuracy: 0.9839 - val_loss: 0.2217 - val_accuracy: 0.9404\n",
      "\n",
      "Epoch 00028: val_loss did not improve from 0.17817\n",
      "Epoch 29/50\n",
      "55000/55000 [==============================] - 632s 11ms/step - loss: 0.0381 - accuracy: 0.9866 - val_loss: 0.2289 - val_accuracy: 0.9410\n",
      "\n",
      "Epoch 00029: val_loss did not improve from 0.17817\n",
      "Epoch 30/50\n",
      "55000/55000 [==============================] - 642s 12ms/step - loss: 0.0370 - accuracy: 0.9873 - val_loss: 0.2421 - val_accuracy: 0.9408\n",
      "\n",
      "Epoch 00030: val_loss did not improve from 0.17817\n",
      "Epoch 31/50\n",
      "55000/55000 [==============================] - 573s 10ms/step - loss: 0.0386 - accuracy: 0.9867 - val_loss: 0.2426 - val_accuracy: 0.9420\n",
      "\n",
      "Epoch 00031: val_loss did not improve from 0.17817\n",
      "Epoch 32/50\n",
      "55000/55000 [==============================] - 589s 11ms/step - loss: 0.0370 - accuracy: 0.9869 - val_loss: 0.2329 - val_accuracy: 0.9436\n",
      "\n",
      "Epoch 00032: val_loss did not improve from 0.17817\n",
      "Epoch 33/50\n",
      "55000/55000 [==============================] - 577s 10ms/step - loss: 0.0346 - accuracy: 0.9882 - val_loss: 0.2220 - val_accuracy: 0.9466\n",
      "\n",
      "Epoch 00033: val_loss did not improve from 0.17817\n",
      "Epoch 34/50\n",
      "55000/55000 [==============================] - 575s 10ms/step - loss: 0.0312 - accuracy: 0.9894 - val_loss: 0.2433 - val_accuracy: 0.9444\n",
      "\n",
      "Epoch 00034: val_loss did not improve from 0.17817\n",
      "Epoch 35/50\n",
      "55000/55000 [==============================] - 580s 11ms/step - loss: 0.0309 - accuracy: 0.9895 - val_loss: 0.2353 - val_accuracy: 0.9434\n",
      "\n",
      "Epoch 00035: val_loss did not improve from 0.17817\n",
      "Epoch 36/50\n",
      "55000/55000 [==============================] - 572s 10ms/step - loss: 0.0333 - accuracy: 0.9883 - val_loss: 0.2394 - val_accuracy: 0.9424\n",
      "\n",
      "Epoch 00036: val_loss did not improve from 0.17817\n",
      "Epoch 37/50\n",
      "55000/55000 [==============================] - 576s 10ms/step - loss: 0.0303 - accuracy: 0.9895 - val_loss: 0.2582 - val_accuracy: 0.9406\n",
      "\n",
      "Epoch 00037: val_loss did not improve from 0.17817\n",
      "Epoch 38/50\n",
      "55000/55000 [==============================] - 577s 10ms/step - loss: 0.0294 - accuracy: 0.9902 - val_loss: 0.2323 - val_accuracy: 0.9456\n",
      "\n",
      "Epoch 00038: val_loss did not improve from 0.17817\n",
      "Epoch 39/50\n",
      "55000/55000 [==============================] - 578s 11ms/step - loss: 0.0269 - accuracy: 0.9905 - val_loss: 0.3198 - val_accuracy: 0.9298\n",
      "\n",
      "Epoch 00039: val_loss did not improve from 0.17817\n",
      "Epoch 40/50\n",
      "55000/55000 [==============================] - 574s 10ms/step - loss: 0.0287 - accuracy: 0.9903 - val_loss: 0.2367 - val_accuracy: 0.9448\n",
      "\n",
      "Epoch 00040: val_loss did not improve from 0.17817\n",
      "Epoch 41/50\n",
      "55000/55000 [==============================] - 579s 11ms/step - loss: 0.0263 - accuracy: 0.9909 - val_loss: 0.2292 - val_accuracy: 0.9472\n",
      "\n",
      "Epoch 00041: val_loss did not improve from 0.17817\n",
      "Epoch 42/50\n"
     ]
    },
    {
     "name": "stdout",
     "output_type": "stream",
     "text": [
      "55000/55000 [==============================] - 572s 10ms/step - loss: 0.0295 - accuracy: 0.9899 - val_loss: 0.2256 - val_accuracy: 0.9468\n",
      "\n",
      "Epoch 00042: val_loss did not improve from 0.17817\n",
      "Epoch 43/50\n",
      "55000/55000 [==============================] - 570s 10ms/step - loss: 0.0253 - accuracy: 0.9915 - val_loss: 0.2413 - val_accuracy: 0.9454\n",
      "\n",
      "Epoch 00043: val_loss did not improve from 0.17817\n",
      "Epoch 44/50\n",
      "55000/55000 [==============================] - 574s 10ms/step - loss: 0.0272 - accuracy: 0.9911 - val_loss: 0.2528 - val_accuracy: 0.9398\n",
      "\n",
      "Epoch 00044: val_loss did not improve from 0.17817\n",
      "Epoch 45/50\n",
      "55000/55000 [==============================] - 573s 10ms/step - loss: 0.0281 - accuracy: 0.9906 - val_loss: 0.2603 - val_accuracy: 0.9408\n",
      "\n",
      "Epoch 00045: val_loss did not improve from 0.17817\n",
      "Epoch 46/50\n",
      "55000/55000 [==============================] - 572s 10ms/step - loss: 0.0231 - accuracy: 0.9918 - val_loss: 0.2617 - val_accuracy: 0.9414\n",
      "\n",
      "Epoch 00046: val_loss did not improve from 0.17817\n",
      "Epoch 47/50\n",
      "55000/55000 [==============================] - 572s 10ms/step - loss: 0.0233 - accuracy: 0.9922 - val_loss: 0.2499 - val_accuracy: 0.9464\n",
      "\n",
      "Epoch 00047: val_loss did not improve from 0.17817\n",
      "Epoch 48/50\n",
      "55000/55000 [==============================] - 572s 10ms/step - loss: 0.0221 - accuracy: 0.9923 - val_loss: 0.2442 - val_accuracy: 0.9418\n",
      "\n",
      "Epoch 00048: val_loss did not improve from 0.17817\n",
      "Epoch 49/50\n",
      "55000/55000 [==============================] - 569s 10ms/step - loss: 0.0207 - accuracy: 0.9928 - val_loss: 0.2610 - val_accuracy: 0.9430\n",
      "\n",
      "Epoch 00049: val_loss did not improve from 0.17817\n",
      "Epoch 50/50\n",
      "55000/55000 [==============================] - 570s 10ms/step - loss: 0.0206 - accuracy: 0.9931 - val_loss: 0.2583 - val_accuracy: 0.9446\n",
      "\n",
      "Epoch 00050: val_loss did not improve from 0.17817\n"
     ]
    },
    {
     "data": {
      "text/plain": [
       "<keras.callbacks.callbacks.History at 0x18e8e3ae668>"
      ]
     },
     "execution_count": 9,
     "metadata": {},
     "output_type": "execute_result"
    }
   ],
   "source": [
    "from keras.callbacks import ModelCheckpoint\n",
    "checkpointer = ModelCheckpoint(filepath='model.weights.best.hdf5', verbose = 1, save_best_only=True)\n",
    "model.fit(x_train,\n",
    "         y_train,\n",
    "         batch_size=128,\n",
    "         epochs=50,#No of times to run and for checking the accuracy \n",
    "         validation_data=(x_valid, y_valid),\n",
    "         callbacks=[checkpointer])"
   ]
  },
  {
   "cell_type": "markdown",
   "metadata": {},
   "source": [
    "## 8) Evaluate the model?\n"
   ]
  },
  {
   "cell_type": "code",
   "execution_count": 10,
   "metadata": {},
   "outputs": [
    {
     "name": "stdout",
     "output_type": "stream",
     "text": [
      "\n",
      " Test accuracy: 0.9399999976158142\n"
     ]
    }
   ],
   "source": [
    "# Evaluate the model on test set\n",
    "score = model.evaluate(x_test, y_test, verbose=0)\n",
    "\n",
    "# Print test accuracy\n",
    "\n",
    "print('\\n', 'Test accuracy:', score[1])"
   ]
  },
  {
   "cell_type": "code",
   "execution_count": 11,
   "metadata": {},
   "outputs": [
    {
     "data": {
      "image/png": "[encoded data removed]",
      "text/plain": [
       "<Figure size 1440x576 with 15 Axes>"
      ]
     },
     "metadata": {},
     "output_type": "display_data"
    }
   ],
   "source": [
    "y_hat = model.predict(x_test)\n",
    "\n",
    "# Plot a random sample of 10 test images, their predicted labels and ground truth\n",
    "figure = plt.figure(figsize=(20, 8))\n",
    "for i, index in enumerate(np.random.choice(x_test.shape[0], size=15, replace=False)):\n",
    "    ax = figure.add_subplot(3, 5, i + 1, xticks=[], yticks=[])\n",
    "    # Display each image\n",
    "    ax.imshow(np.squeeze(x_test[index]))\n",
    "    predict_index = np.argmax(y_hat[index])\n",
    "    true_index = np.argmax(y_test[index])\n",
    "    # Set the title for each image\n",
    "    ax.set_title(\"{} ({})\".format(fashion_mnist_labels[predict_index], \n",
    "                                  fashion_mnist_labels[true_index]),\n",
    "                                  color=(\"green\" if predict_index == true_index else \"red\"))"
   ]
  },
  {
   "cell_type": "markdown",
   "metadata": {},
   "source": [
    "###  Sucessfully Obtained 94% Accuracy"
   ]
  },
  {
   "cell_type": "markdown",
   "metadata": {},
   "source": [
    "## 9) Provide breif conclusion of your work? "
   ]
  },
  {
   "cell_type": "markdown",
   "metadata": {},
   "source": [
    "### conclusion: \n",
    "> We had taken fashion Mnist classification problem as our goal to classify each term with respect to their category. this we had solved by considering simple convolution neural networks.Fashion Mnist datasets are imported directly from keras library.Initially we had done data preprocessing,Modulating data based on the requirment like data normalization,reshaping images,one-hot encoding.we splitted the datasets into two categories training the data(60,000) and testing the datasets (10000).Now training the model architecture with several layers, as mentioned above.we use dseveral hyper tunning parameters like optimizers,learning rate and epochs in order to train the model perfectly to achieve good accuracy. "
   ]
  },
  {
   "cell_type": "markdown",
   "metadata": {},
   "source": [
    "<p><span style=\"color:red\">References</span></p>\n",
    "\n",
    "> [1] [Keras](https://keras.io/guides/)\n",
    "\n",
    "> [2] [Matplotlib](https://matplotlib.org/)\n",
    "    \n",
    "> [3] [Numpy](https://numpy.org/)\n",
    "    \n",
    "> [4] [Tensor Flow](https://www.tensorflow.org/)\n",
    "\n",
    "> [5] Fashion MNIST, An MNIST-like dataset of 70,000 28x28 labeled fashion images, https://www.kaggle.com/zalando-research/fashionmnist\n",
    "\n",
    "> [6] Goodfellow, I., Bengio, Y., & Courville, A. (2016).[Deep Learning](https://books.google.it/books?hl=en&lr=&id=omivDQAAQBAJ&oi=fnd&pg=PR5&dq=+++++Goodfellow,+I.,+Bengio,+Y.,+%26+Courville,+A.+(2016).+Deep+learning+(adaptive+computation+and+machine+learning+series).+Adaptive+Computation+and+Machine+Learning+series,+800.&ots=MMV_ftmDQU&sig=Gy4MrK33Nmcjirnl7sEzgz26xBI&redir_esc=y#v=onepage&q&f=false) (adaptive computation and machine learning series). Adaptive Computation and Machine Learning series, 800.\n",
    "\n",
    "> [7] Dropout: A Simple Way to Prevent Neural Networks from Overfitting, https://www.cs.toronto.edu/~hinton/absps/JMLRdropout.pdf"
   ]
  },
  {
   "cell_type": "code",
   "execution_count": null,
   "metadata": {},
   "outputs": [],
   "source": []
  }
 ],
 "metadata": {
  "kernelspec": {
   "display_name": "Python 3",
   "language": "python",
   "name": "python3"
  },
  "language_info": {
   "codemirror_mode": {
    "name": "ipython",
    "version": 3
   },
   "file_extension": ".py",
   "mimetype": "text/x-python",
   "name": "python",
   "nbconvert_exporter": "python",
   "pygments_lexer": "ipython3",
   "version": "3.8.1"
  }
 },
 "nbformat": 4,
 "nbformat_minor": 4
}
